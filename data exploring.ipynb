{
 "cells": [
  {
   "cell_type": "markdown",
   "id": "b185ce8f",
   "metadata": {},
   "source": [
    "Note that in this notebook I will explore the already processed dataset proposed in the research \"Detection of Malicious Network Flows with Low Preprocessing Overhead\"."
   ]
  },
  {
   "cell_type": "markdown",
   "id": "592a2c91",
   "metadata": {},
   "source": [
    "#### Imports"
   ]
  },
  {
   "cell_type": "code",
   "execution_count": 3,
   "id": "3804bae9",
   "metadata": {},
   "outputs": [],
   "source": [
    "import pandas as pd\n",
    "import warnings\n",
    "warnings.filterwarnings(action=\"ignore\")"
   ]
  },
  {
   "cell_type": "markdown",
   "id": "e28bee4a",
   "metadata": {},
   "source": [
    "#### Constants"
   ]
  },
  {
   "cell_type": "code",
   "execution_count": 4,
   "id": "1d1ce6f7",
   "metadata": {},
   "outputs": [],
   "source": [
    "WORK_DIR = \"datasets\""
   ]
  },
  {
   "cell_type": "markdown",
   "id": "74b762ac",
   "metadata": {},
   "source": [
    "#### Extracting the data"
   ]
  },
  {
   "cell_type": "markdown",
   "id": "adf7b442",
   "metadata": {},
   "source": [
    "Using just a snippet of the data because the full dataset is very large"
   ]
  },
  {
   "cell_type": "code",
   "execution_count": 5,
   "id": "2169f076",
   "metadata": {},
   "outputs": [],
   "source": [
    "df = pd.read_csv(f\"{WORK_DIR}/parsed_data/CNN_1-pkt_seed-101.csv\")"
   ]
  },
  {
   "cell_type": "code",
   "execution_count": 6,
   "id": "a4bb1b6a",
   "metadata": {},
   "outputs": [
    {
     "data": {
      "text/html": [
       "<div>\n",
       "<style scoped>\n",
       "    .dataframe tbody tr th:only-of-type {\n",
       "        vertical-align: middle;\n",
       "    }\n",
       "\n",
       "    .dataframe tbody tr th {\n",
       "        vertical-align: top;\n",
       "    }\n",
       "\n",
       "    .dataframe thead th {\n",
       "        text-align: right;\n",
       "    }\n",
       "</style>\n",
       "<table border=\"1\" class=\"dataframe\">\n",
       "  <thead>\n",
       "    <tr style=\"text-align: right;\">\n",
       "      <th></th>\n",
       "      <th>dataset</th>\n",
       "      <th>label</th>\n",
       "      <th>subset</th>\n",
       "      <th>image</th>\n",
       "    </tr>\n",
       "  </thead>\n",
       "  <tbody>\n",
       "    <tr>\n",
       "      <th>0</th>\n",
       "      <td>USTC</td>\n",
       "      <td>Facetime</td>\n",
       "      <td>0</td>\n",
       "      <td>424d1e0600000000000036000000280000001800000015...</td>\n",
       "    </tr>\n",
       "    <tr>\n",
       "      <th>1</th>\n",
       "      <td>USTC</td>\n",
       "      <td>Facetime</td>\n",
       "      <td>0</td>\n",
       "      <td>424d1e0600000000000036000000280000001800000015...</td>\n",
       "    </tr>\n",
       "    <tr>\n",
       "      <th>2</th>\n",
       "      <td>USTC</td>\n",
       "      <td>Facetime</td>\n",
       "      <td>0</td>\n",
       "      <td>424d1e0600000000000036000000280000001800000015...</td>\n",
       "    </tr>\n",
       "    <tr>\n",
       "      <th>3</th>\n",
       "      <td>USTC</td>\n",
       "      <td>Facetime</td>\n",
       "      <td>0</td>\n",
       "      <td>424d1e0600000000000036000000280000001800000015...</td>\n",
       "    </tr>\n",
       "    <tr>\n",
       "      <th>4</th>\n",
       "      <td>USTC</td>\n",
       "      <td>Facetime</td>\n",
       "      <td>0</td>\n",
       "      <td>424d1e0600000000000036000000280000001800000015...</td>\n",
       "    </tr>\n",
       "  </tbody>\n",
       "</table>\n",
       "</div>"
      ],
      "text/plain": [
       "  dataset     label  subset                                              image\n",
       "0    USTC  Facetime       0  424d1e0600000000000036000000280000001800000015...\n",
       "1    USTC  Facetime       0  424d1e0600000000000036000000280000001800000015...\n",
       "2    USTC  Facetime       0  424d1e0600000000000036000000280000001800000015...\n",
       "3    USTC  Facetime       0  424d1e0600000000000036000000280000001800000015...\n",
       "4    USTC  Facetime       0  424d1e0600000000000036000000280000001800000015..."
      ]
     },
     "execution_count": 6,
     "metadata": {},
     "output_type": "execute_result"
    }
   ],
   "source": [
    "df.head(5)"
   ]
  },
  {
   "cell_type": "markdown",
   "id": "6e4158a5",
   "metadata": {},
   "source": [
    "Note that subset markes what row is for training and what row is for testing"
   ]
  },
  {
   "cell_type": "code",
   "execution_count": 114,
   "id": "2df281b0",
   "metadata": {},
   "outputs": [
    {
     "name": "stdout",
     "output_type": "stream",
     "text": [
      "10.0% of the data is for testing\n"
     ]
    }
   ],
   "source": [
    "print(f\"{len(df[df.subset == 1])/len(df)*100}% of the data is for testing\")"
   ]
  },
  {
   "cell_type": "code",
   "execution_count": 8,
   "id": "d5e67479",
   "metadata": {},
   "outputs": [
    {
     "data": {
      "text/html": [
       "<div>\n",
       "<style scoped>\n",
       "    .dataframe tbody tr th:only-of-type {\n",
       "        vertical-align: middle;\n",
       "    }\n",
       "\n",
       "    .dataframe tbody tr th {\n",
       "        vertical-align: top;\n",
       "    }\n",
       "\n",
       "    .dataframe thead th {\n",
       "        text-align: right;\n",
       "    }\n",
       "</style>\n",
       "<table border=\"1\" class=\"dataframe\">\n",
       "  <thead>\n",
       "    <tr style=\"text-align: right;\">\n",
       "      <th></th>\n",
       "      <th>subset</th>\n",
       "    </tr>\n",
       "  </thead>\n",
       "  <tbody>\n",
       "    <tr>\n",
       "      <th>count</th>\n",
       "      <td>120000.000000</td>\n",
       "    </tr>\n",
       "    <tr>\n",
       "      <th>mean</th>\n",
       "      <td>0.100000</td>\n",
       "    </tr>\n",
       "    <tr>\n",
       "      <th>std</th>\n",
       "      <td>0.300001</td>\n",
       "    </tr>\n",
       "    <tr>\n",
       "      <th>min</th>\n",
       "      <td>0.000000</td>\n",
       "    </tr>\n",
       "    <tr>\n",
       "      <th>25%</th>\n",
       "      <td>0.000000</td>\n",
       "    </tr>\n",
       "    <tr>\n",
       "      <th>50%</th>\n",
       "      <td>0.000000</td>\n",
       "    </tr>\n",
       "    <tr>\n",
       "      <th>75%</th>\n",
       "      <td>0.000000</td>\n",
       "    </tr>\n",
       "    <tr>\n",
       "      <th>max</th>\n",
       "      <td>1.000000</td>\n",
       "    </tr>\n",
       "  </tbody>\n",
       "</table>\n",
       "</div>"
      ],
      "text/plain": [
       "              subset\n",
       "count  120000.000000\n",
       "mean        0.100000\n",
       "std         0.300001\n",
       "min         0.000000\n",
       "25%         0.000000\n",
       "50%         0.000000\n",
       "75%         0.000000\n",
       "max         1.000000"
      ]
     },
     "execution_count": 8,
     "metadata": {},
     "output_type": "execute_result"
    }
   ],
   "source": [
    "df.describe()"
   ]
  },
  {
   "cell_type": "code",
   "execution_count": 9,
   "id": "4b34e996",
   "metadata": {},
   "outputs": [
    {
     "name": "stdout",
     "output_type": "stream",
     "text": [
      "<class 'pandas.core.frame.DataFrame'>\n",
      "RangeIndex: 120000 entries, 0 to 119999\n",
      "Data columns (total 4 columns):\n",
      " #   Column   Non-Null Count   Dtype \n",
      "---  ------   --------------   ----- \n",
      " 0   dataset  120000 non-null  object\n",
      " 1   label    120000 non-null  object\n",
      " 2   subset   120000 non-null  int64 \n",
      " 3   image    120000 non-null  object\n",
      "dtypes: int64(1), object(3)\n",
      "memory usage: 3.7+ MB\n"
     ]
    }
   ],
   "source": [
    "df.info()"
   ]
  },
  {
   "cell_type": "code",
   "execution_count": 11,
   "id": "286efd4b",
   "metadata": {},
   "outputs": [
    {
     "data": {
      "text/plain": [
       "array(['Facetime', 'FTP', 'Outlook', 'Zeus', 'Tinba', 'Htbot', 'Geodo',\n",
       "       'Shifu', 'Neris', 'BitTorrent', 'Weibo', 'SMB', 'Skype', 'Virut',\n",
       "       'MySQL', 'Miuref', 'WorldOfWarcraft', 'Nsis-ay', 'Cridex', 'Gmail'],\n",
       "      dtype=object)"
      ]
     },
     "execution_count": 11,
     "metadata": {},
     "output_type": "execute_result"
    }
   ],
   "source": [
    "df.label.unique()"
   ]
  },
  {
   "cell_type": "code",
   "execution_count": 7,
   "id": "b9541b05",
   "metadata": {},
   "outputs": [
    {
     "name": "stdout",
     "output_type": "stream",
     "text": [
      "The amount of unique images in dataset - 120000\n"
     ]
    }
   ],
   "source": [
    "print(f\"The amount of unique images in dataset - {len(df.image.unique())}\")"
   ]
  },
  {
   "cell_type": "markdown",
   "id": "11dadf4a",
   "metadata": {},
   "source": [
    "Whic means the whole dataset is made of unique conversations"
   ]
  },
  {
   "cell_type": "markdown",
   "id": "89992b74",
   "metadata": {},
   "source": [
    "### Visualisation"
   ]
  },
  {
   "cell_type": "code",
   "execution_count": 118,
   "id": "a0869cac",
   "metadata": {},
   "outputs": [],
   "source": [
    "from io import BytesIO\n",
    "import matplotlib.pyplot as plt"
   ]
  },
  {
   "cell_type": "code",
   "execution_count": 123,
   "id": "018aa7a7",
   "metadata": {},
   "outputs": [],
   "source": [
    "def show_bmp_from_string(byte_string):\n",
    "    \"\"\"\n",
    "    Displays a BMP image from a byte string\n",
    "    \"\"\"\n",
    "    image_data = bytes.fromhex(byte_string)\n",
    "    image_file = BytesIO(image_data)\n",
    "    image = plt.imread(image_file, format='bmp')\n",
    "    plt.imshow(image)\n",
    "    plt.show()"
   ]
  },
  {
   "cell_type": "markdown",
   "id": "d2370874",
   "metadata": {},
   "source": [
    "Showing first image in the DataFrame"
   ]
  },
  {
   "cell_type": "code",
   "execution_count": 124,
   "id": "c4e90948",
   "metadata": {},
   "outputs": [
    {
     "data": {
      "image/png": "[encoded data removed]",
      "text/plain": [
       "<Figure size 640x480 with 1 Axes>"
      ]
     },
     "metadata": {},
     "output_type": "display_data"
    }
   ],
   "source": [
    "show_bmp_from_string(df.iloc[0].image)"
   ]
  },
  {
   "cell_type": "markdown",
   "id": "b57f90cf",
   "metadata": {},
   "source": [
    "Most of the preprocessing was already done for us, the pcaps's conversation flows are already converted to bitmap images which leavs us only the CNN model part"
   ]
  }
 ],
 "metadata": {
  "kernelspec": {
   "display_name": "py310",
   "language": "python",
   "name": "py310"
  },
  "language_info": {
   "codemirror_mode": {
    "name": "ipython",
    "version": 3
   },
   "file_extension": ".py",
   "mimetype": "text/x-python",
   "name": "python",
   "nbconvert_exporter": "python",
   "pygments_lexer": "ipython3",
   "version": "3.9.13"
  }
 },
 "nbformat": 4,
 "nbformat_minor": 5
}
